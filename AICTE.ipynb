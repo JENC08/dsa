{
  "nbformat": 4,
  "nbformat_minor": 0,
  "metadata": {
    "colab": {
      "provenance": [],
      "authorship_tag": "ABX9TyO7lbJb0LSIH9DxZb6+slHt",
      "include_colab_link": true
    },
    "kernelspec": {
      "name": "python3",
      "display_name": "Python 3"
    },
    "language_info": {
      "name": "python"
    }
  },
  "cells": [
    {
      "cell_type": "markdown",
      "metadata": {
        "id": "view-in-github",
        "colab_type": "text"
      },
      "source": [
        "<a href=\"https://colab.research.google.com/github/JENC08/dsa/blob/main/AICTE.ipynb\" target=\"_parent\"><img src=\"https://colab.research.google.com/assets/colab-badge.svg\" alt=\"Open In Colab\"/></a>"
      ]
    },
    {
      "cell_type": "code",
      "execution_count": null,
      "metadata": {
        "colab": {
          "base_uri": "https://localhost:8080/"
        },
        "id": "HrwtW3D_HIWc",
        "outputId": "22f7eb58-a30b-4bbd-d5a4-43a077029420"
      },
      "outputs": [
        {
          "output_type": "stream",
          "name": "stdout",
          "text": [
            "\n",
            "📥 Enter student details:\n",
            "Gender ['Female', 'Male']: malw\n",
            "⚠️ Unknown gender. Using default.\n",
            "ParentalEducation ['<HS', 'Bachelors+', 'HS', 'SomeCollege']: degree\n",
            "⚠️ Unknown education. Using default.\n",
            "TestScore_Math (0-100): 25\n",
            "TestScore_Reading (0-100): 21\n",
            "TestScore_Science (0-100): 14\n",
            "GPA (0-10): 5\n",
            "Attendance Rate (0-100): 50\n",
            "\n",
            "🎓 Prediction: ✅ Passed (Confidence: 78.00%)\n"
          ]
        }
      ],
      "source": [
        "import pandas as pd\n",
        "from sklearn.model_selection import train_test_split\n",
        "from sklearn.preprocessing import LabelEncoder, StandardScaler\n",
        "from sklearn.ensemble import RandomForestClassifier\n",
        "\n",
        "# Load dataset\n",
        "df = pd.read_csv('/content/test.csv')\n",
        "\n",
        "# ✅ Step 1: Use selected columns\n",
        "selected_cols = ['Gender', 'ParentalEducation', 'TestScore_Math',\n",
        "                 'TestScore_Reading', 'TestScore_Science', 'GPA', 'AttendanceRate']\n",
        "df = df[selected_cols].copy()\n",
        "\n",
        "# ✅ Step 2: Create target label\n",
        "df['average_score'] = df[['TestScore_Math', 'TestScore_Reading', 'TestScore_Science']].mean(axis=1)\n",
        "df['Pass'] = df['average_score'].apply(lambda x: 1 if x >= 50 else 0)\n",
        "df.drop(columns=['average_score'], inplace=True)\n",
        "\n",
        "# ✅ Step 3: Encode categorical variables\n",
        "label_encoders = {}\n",
        "for col in df.select_dtypes(include='object').columns:\n",
        "    le = LabelEncoder()\n",
        "    df[col] = le.fit_transform(df[col])\n",
        "    label_encoders[col] = le\n",
        "\n",
        "# ✅ Step 4: Train/test split and scaling\n",
        "X = df.drop('Pass', axis=1)\n",
        "y = df['Pass']\n",
        "scaler = StandardScaler()\n",
        "X_scaled = scaler.fit_transform(X)\n",
        "\n",
        "X_train, X_test, y_train, y_test = train_test_split(\n",
        "    X_scaled, y, test_size=0.2, random_state=42, stratify=y)\n",
        "\n",
        "# ✅ Step 5: Model training with class weight\n",
        "model = RandomForestClassifier(class_weight='balanced', random_state=42)\n",
        "model.fit(X_train, y_train)\n",
        "\n",
        "# ========== USER INPUT ==========\n",
        "\n",
        "print(\"\\n📥 Enter student details:\")\n",
        "\n",
        "def get_input(prompt, is_float=True):\n",
        "    try:\n",
        "        value = input(prompt)\n",
        "        return float(value) if is_float else value.strip()\n",
        "    except:\n",
        "        print(\"⚠️ Invalid input. Defaulting to 0.\")\n",
        "        return 0.0 if is_float else \"\"\n",
        "\n",
        "# Input fields\n",
        "user_data = {}\n",
        "\n",
        "# Encode Gender\n",
        "gender_input = get_input(f\"Gender {list(label_encoders['Gender'].classes_)}: \", is_float=False)\n",
        "if gender_input in label_encoders['Gender'].classes_:\n",
        "    user_data['Gender'] = label_encoders['Gender'].transform([gender_input])[0]\n",
        "else:\n",
        "    print(\"⚠️ Unknown gender. Using default.\")\n",
        "    user_data['Gender'] = 0\n",
        "\n",
        "# Encode Parental Education\n",
        "edu_input = get_input(f\"ParentalEducation {list(label_encoders['ParentalEducation'].classes_)}: \", is_float=False)\n",
        "if edu_input in label_encoders['ParentalEducation'].classes_:\n",
        "    user_data['ParentalEducation'] = label_encoders['ParentalEducation'].transform([edu_input])[0]\n",
        "else:\n",
        "    print(\"⚠️ Unknown education. Using default.\")\n",
        "    user_data['ParentalEducation'] = 0\n",
        "\n",
        "# Numerical Inputs\n",
        "user_data['TestScore_Math'] = get_input(\"TestScore_Math (0-100): \")\n",
        "user_data['TestScore_Reading'] = get_input(\"TestScore_Reading (0-100): \")\n",
        "user_data['TestScore_Science'] = get_input(\"TestScore_Science (0-100): \")\n",
        "user_data['GPA'] = get_input(\"GPA (0-10): \")\n",
        "user_data['AttendanceRate'] = get_input(\"Attendance Rate (0-100): \")\n",
        "\n",
        "# Convert to DataFrame and scale\n",
        "input_df = pd.DataFrame([user_data])\n",
        "input_scaled = scaler.transform(input_df)\n",
        "\n",
        "# Predict\n",
        "prediction = model.predict(input_scaled)[0]\n",
        "proba = model.predict_proba(input_scaled)[0][prediction] * 100\n",
        "\n",
        "# Show result\n",
        "result = \"✅ Passed\" if prediction == 1 else \"❌ Failed\"\n",
        "print(f\"\\n🎓 Prediction: {result} (Confidence: {proba:.2f}%)\")\n"
      ]
    }
  ]
}